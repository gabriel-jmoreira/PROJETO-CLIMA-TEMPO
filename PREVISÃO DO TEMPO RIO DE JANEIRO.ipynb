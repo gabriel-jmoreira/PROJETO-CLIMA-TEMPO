{
 "cells": [
  {
   "cell_type": "code",
   "execution_count": 10,
   "id": "a5639b51",
   "metadata": {},
   "outputs": [
    {
     "name": "stdout",
     "output_type": "stream",
     "text": [
      "nublado 23.0°C\n"
     ]
    }
   ],
   "source": [
    "import requests\n",
    "\n",
    "API_KEY = \"88f89b8dcf40021f44a4f0fc5168f038\"\n",
    "\n",
    "Cidade =  \"RIO DE JANEIRO\"\n",
    "LINK = f\"https://api.openweathermap.org/data/2.5/weather?q={Cidade}&appid={API_KEY}&lang=pt_br\"\n",
    "\n",
    "requisicao =  requests.get(LINK)\n",
    "requisicao_dic = requisicao.json()\n",
    "descricao = requisicao_dic['weather'][0]['description']\n",
    "temperatura = requisicao_dic['main']['temp'] - 273.15\n",
    "print(descricao, f\"{temperatura}°C\")"
   ]
  },
  {
   "cell_type": "code",
   "execution_count": null,
   "id": "aa5ab094",
   "metadata": {},
   "outputs": [],
   "source": []
  }
 ],
 "metadata": {
  "kernelspec": {
   "display_name": "Python 3",
   "language": "python",
   "name": "python3"
  },
  "language_info": {
   "codemirror_mode": {
    "name": "ipython",
    "version": 3
   },
   "file_extension": ".py",
   "mimetype": "text/x-python",
   "name": "python",
   "nbconvert_exporter": "python",
   "pygments_lexer": "ipython3",
   "version": "3.8.8"
  }
 },
 "nbformat": 4,
 "nbformat_minor": 5
}
